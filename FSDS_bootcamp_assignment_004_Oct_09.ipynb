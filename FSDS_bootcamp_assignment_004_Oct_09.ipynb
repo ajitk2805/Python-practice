{
  "cells": [
    {
      "cell_type": "markdown",
      "metadata": {
        "id": "dkGbTD94s6CD"
      },
      "source": [
        "# ASSIGNMENTS \n",
        "## Send it before 0000 hrs IST or 12 AM Wednesday\n",
        "\n",
        "## NOTE: Evaluation will be done before next class.\n",
        "\n",
        "## HOW TO SUBMIT: -\n",
        "Download this notebook, Solve it and upload in the google form given in the mail."
      ]
    },
    {
      "cell_type": "markdown",
      "metadata": {
        "id": "n3FuI-mutNl6"
      },
      "source": [
        "## control flow and conditional statements"
      ]
    },
    {
      "cell_type": "markdown",
      "metadata": {},
      "source": [
        "# Assignment Solutions"
      ]
    },
    {
      "cell_type": "markdown",
      "metadata": {
        "id": "NCW2epdyuJ-a"
      },
      "source": [
        "Q1. Find the largest number from the given list, use for loop.\n",
        "\n",
        "```\n",
        "numbers = [12, 75, 150, 180, 145, 525, 50]\n",
        "```"
      ]
    },
    {
      "cell_type": "code",
      "execution_count": 19,
      "metadata": {},
      "outputs": [
        {
          "name": "stdout",
          "output_type": "stream",
          "text": [
            "The largest number is: 525\n"
          ]
        }
      ],
      "source": [
        "# Answer to question 1\n",
        "numbers = [12, 75, 150, 180, 145, 525, 50]\n",
        "\n",
        "largest_num = 0\n",
        "for i in range(0,len(numbers)):\n",
        "    if i == 0:\n",
        "        largest_num = numbers[i]\n",
        "    else:\n",
        "        if numbers[i] > largest_num:\n",
        "            largest_num = numbers[i]\n",
        "        else:\n",
        "            pass\n",
        "\n",
        "print(f'The largest number is: {largest_num}')\n"
      ]
    },
    {
      "cell_type": "markdown",
      "metadata": {
        "id": "Qsg0i1fTwEQj"
      },
      "source": [
        "Q2. Print all the even number between (1, 12)."
      ]
    },
    {
      "cell_type": "code",
      "execution_count": 18,
      "metadata": {},
      "outputs": [
        {
          "name": "stdout",
          "output_type": "stream",
          "text": [
            "2\n",
            "4\n",
            "6\n",
            "8\n",
            "10\n",
            "12\n"
          ]
        }
      ],
      "source": [
        "# Answer to question 2\n",
        "for num in range(1,13):\n",
        "    if num%2 == 0:\n",
        "        print(num)\n",
        "    else:\n",
        "        pass"
      ]
    },
    {
      "cell_type": "markdown",
      "metadata": {
        "id": "WG2QcDDhwi4a"
      },
      "source": [
        "Q3. Calculate the sum of all numbers from 1 to a given number\n",
        "    \n",
        "    Expected Output:\n",
        "\n",
        "    Enter number 10\n",
        "    \n",
        "    Sum is:  55\n"
      ]
    },
    {
      "cell_type": "code",
      "execution_count": 20,
      "metadata": {},
      "outputs": [
        {
          "name": "stdout",
          "output_type": "stream",
          "text": [
            "Sum is: 55\n"
          ]
        }
      ],
      "source": [
        "# Answer to question 3\n",
        "number = int(input('Enter a number: '))\n",
        "sum = 0\n",
        "for num in range(1,number+1):\n",
        "    sum = sum + num\n",
        "print(f'Sum is: {sum}')"
      ]
    },
    {
      "cell_type": "markdown",
      "metadata": {
        "id": "mc7lLUm5f4Cq"
      },
      "source": [
        "Q4. Write a program to display only those numbers from a list that satisfy the following conditions\n",
        "\n",
        "- The number must be divisible by five\n",
        "\n",
        "- If the number is greater than 150, then skip it and move to the next number\n",
        "\n",
        "- If the number is greater than 500, then stop the loop"
      ]
    },
    {
      "cell_type": "code",
      "execution_count": 21,
      "metadata": {
        "id": "P3Ct2ocKf6Hy"
      },
      "outputs": [],
      "source": [
        "# Given:\n",
        "\n",
        "numbers = [12, 75, 150, 180, 145, 525, 50]"
      ]
    },
    {
      "cell_type": "code",
      "execution_count": 30,
      "metadata": {},
      "outputs": [
        {
          "name": "stdout",
          "output_type": "stream",
          "text": [
            "[75, 150, 145]\n"
          ]
        }
      ],
      "source": [
        "# Answer to question 4\n",
        "out_list = []\n",
        "for num in numbers:\n",
        "    if num%5==0:\n",
        "        if num > 150:\n",
        "            if num > 500:\n",
        "                break\n",
        "            continue\n",
        "        out_list.append(num)\n",
        "print(out_list)\n",
        "            "
      ]
    },
    {
      "cell_type": "markdown",
      "metadata": {
        "id": "rrxWvy7nMnAs"
      },
      "source": [
        "Q5. Print the given list in reverse order.\n",
        "\n",
        "```\n",
        "list1 = [10, 20, 30, 40, 50]\n",
        "```"
      ]
    },
    {
      "cell_type": "code",
      "execution_count": 2,
      "metadata": {},
      "outputs": [
        {
          "name": "stdout",
          "output_type": "stream",
          "text": [
            "[50, 40, 30, 20, 10]\n"
          ]
        }
      ],
      "source": [
        "# Answer to question 5\n",
        "list1 = [10, 20, 30, 40, 50]\n",
        "print(list1[::-1])"
      ]
    },
    {
      "cell_type": "code",
      "execution_count": null,
      "metadata": {},
      "outputs": [],
      "source": []
    }
  ],
  "metadata": {
    "colab": {
      "collapsed_sections": [],
      "provenance": []
    },
    "kernelspec": {
      "display_name": "Python 3.8.5 ('base')",
      "language": "python",
      "name": "python3"
    },
    "language_info": {
      "codemirror_mode": {
        "name": "ipython",
        "version": 3
      },
      "file_extension": ".py",
      "mimetype": "text/x-python",
      "name": "python",
      "nbconvert_exporter": "python",
      "pygments_lexer": "ipython3",
      "version": "3.8.5"
    },
    "vscode": {
      "interpreter": {
        "hash": "3e7ef4a4c04b9df685031c7817c068296d36ccdc8bf89d6a9900a4397f329a74"
      }
    }
  },
  "nbformat": 4,
  "nbformat_minor": 0
}
