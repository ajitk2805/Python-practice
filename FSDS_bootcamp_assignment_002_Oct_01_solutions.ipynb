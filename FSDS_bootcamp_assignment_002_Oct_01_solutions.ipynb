{
 "cells": [
  {
   "cell_type": "markdown",
   "metadata": {},
   "source": [
    "1. What is indentation error? Why indentation is important? Give one simple example?"
   ]
  },
  {
   "cell_type": "markdown",
   "metadata": {},
   "source": [
    "##### Answer to question 1\n",
    "Indentation is are the whitespaces given before certain lines of code. It is used to segregate the code into blocks of functionally similar statements.\n",
    "Indentation error appears when there is an incorrect indentation in a block of code i.e extra space or no space at all etc.\n",
    "\n",
    "Indentation is not only important for the code to run without any errors, it also helps improve code readability.\n",
    "\n",
    "Below example shows the working code with correct indentation."
   ]
  },
  {
   "cell_type": "code",
   "execution_count": 2,
   "metadata": {},
   "outputs": [
    {
     "name": "stdout",
     "output_type": "stream",
     "text": [
      "a is not equal to b\n"
     ]
    }
   ],
   "source": [
    "a = 1\n",
    "b = 2\n",
    "if a == b:\n",
    "    print('a is equal to b') # indentation is given at this line to identify under if condition\n",
    "else:\n",
    "    print('a is not equal to b') # indentation is given at this line to identify under if condition"
   ]
  },
  {
   "cell_type": "code",
   "execution_count": 6,
   "metadata": {},
   "outputs": [
    {
     "ename": "IndentationError",
     "evalue": "expected an indented block (<ipython-input-6-26e8370a599c>, line 6)",
     "output_type": "error",
     "traceback": [
      "\u001b[1;36m  File \u001b[1;32m\"<ipython-input-6-26e8370a599c>\"\u001b[1;36m, line \u001b[1;32m6\u001b[0m\n\u001b[1;33m    print('a is equal to b') # this line will throw indentation error\u001b[0m\n\u001b[1;37m    ^\u001b[0m\n\u001b[1;31mIndentationError\u001b[0m\u001b[1;31m:\u001b[0m expected an indented block\n"
     ]
    }
   ],
   "source": [
    "##### Below piece of code will throw an indetation error.\n",
    "\n",
    "a = 1\n",
    "b = 2\n",
    "if a == b:\n",
    "print('a is equal to b') # this line will throw indentation error\n",
    "else:\n",
    "    print('a is not equal to b')"
   ]
  },
  {
   "cell_type": "markdown",
   "metadata": {},
   "source": [
    "2. Correct the following code and write the comment where you made the correction?\n",
    "\n",
    "  ```python\n",
    "  class_started = bool(input(\"Hey friend, is class started?: [0-False/1-True]\"))\n",
    "\n",
    "  if class_started:\n",
    "      print(\"Since class started...\")\n",
    "      print(\"Lets concentrate\")\n",
    "  else:\n",
    "      print(\"Since class is not started...\")\n",
    "      print(\"let's revise\")    \n",
    "  ```\n",
    "\n",
    "  **HINT:** Refer your data type conversion class"
   ]
  },
  {
   "cell_type": "code",
   "execution_count": 52,
   "metadata": {},
   "outputs": [
    {
     "name": "stdout",
     "output_type": "stream",
     "text": [
      "Since class is not started...\n",
      "let's revise\n"
     ]
    }
   ],
   "source": [
    "# Answer to question 2\n",
    "class_started = int(input(\"Hey friend, is class started?: [0-False/1-True]\")) # Changed the input type from `bool` to `int`\n",
    "\n",
    "if class_started:\n",
    "    print(\"Since class started...\")\n",
    "    print(\"Lets concentrate\")\n",
    "else:\n",
    "    print(\"Since class is not started...\")\n",
    "    print(\"let's revise\") "
   ]
  },
  {
   "cell_type": "markdown",
   "metadata": {},
   "source": [
    "3. Use if else condition to verify that dataype of `input()` method in python is always string."
   ]
  },
  {
   "cell_type": "code",
   "execution_count": 53,
   "metadata": {},
   "outputs": [
    {
     "name": "stdout",
     "output_type": "stream",
     "text": [
      "Input data type is string\n"
     ]
    }
   ],
   "source": [
    "# Answer to question 3\n",
    "data = input('Enter the data: ')\n",
    "\n",
    "if type(data) == str:\n",
    "    print('Input data type is string')\n",
    "else:\n",
    "    print('Input data type is not string')"
   ]
  },
  {
   "cell_type": "markdown",
   "metadata": {},
   "source": [
    "4. Take 3 variables and assign integer values to them. Find the largest variable, by only using the if and else conditions."
   ]
  },
  {
   "cell_type": "code",
   "execution_count": 54,
   "metadata": {},
   "outputs": [
    {
     "name": "stdout",
     "output_type": "stream",
     "text": [
      "The largest no. is n3: 60\n"
     ]
    }
   ],
   "source": [
    "# Answer to question 4\n",
    "n1 = int(input('Enter first no.: '))\n",
    "n2 = int(input('Enter second no.: '))\n",
    "n3 = int(input('Enter third no.: ')) \n",
    "\n",
    "if not n1 == n2 == n3:\n",
    "    if n1>n2:\n",
    "        if n1>n3:\n",
    "            print(f'The largest no. is n1: {n1}')\n",
    "        else:\n",
    "            print(f'The largest no. is n3: {n3}')\n",
    "    else:\n",
    "        if n2>n3:\n",
    "            print(f'The largest no. is n2: {n2}')\n",
    "        else:\n",
    "            print(f'The largest no. is n3: {n3}')\n",
    "else:\n",
    "    print(f'All three numbers are same: {n1}')"
   ]
  },
  {
   "cell_type": "markdown",
   "metadata": {},
   "source": [
    "5. What would be the solution?\n",
    "    1. True\n",
    "    2. False\n",
    "\n",
    "    ```python\n",
    "    a = 6\n",
    "    b = 10\n",
    "    print( not ( not a == 10 or not b == 10) )\n",
    "    ```"
   ]
  },
  {
   "cell_type": "code",
   "execution_count": 31,
   "metadata": {},
   "outputs": [
    {
     "data": {
      "text/plain": [
       "False"
      ]
     },
     "execution_count": 31,
     "metadata": {},
     "output_type": "execute_result"
    }
   ],
   "source": [
    "# The answer to question no. 5 is False\n",
    "False"
   ]
  },
  {
   "cell_type": "markdown",
   "metadata": {},
   "source": [
    "6. Find the answer as well as find out the reason behind the result? -\n",
    "    - case 1:\n",
    "        ```python\n",
    "        A = 5.0\n",
    "        B = 10/2\n",
    "        print(A is B)\n",
    "        ```\n",
    "    - case 2:\n",
    "        ```python\n",
    "        A = 5.0\n",
    "        B = int(10/2)\n",
    "        print(A is B)\n",
    "        ```\n",
    "    - case 3:\n",
    "        ```python\n",
    "        A = 5.0\n",
    "        B = float(10/2)\n",
    "        print(A is B)\n",
    "        ```"
   ]
  },
  {
   "cell_type": "code",
   "execution_count": 41,
   "metadata": {},
   "outputs": [
    {
     "name": "stdout",
     "output_type": "stream",
     "text": [
      "False\n"
     ]
    }
   ],
   "source": [
    "# case 1:\n",
    "A = 5.0\n",
    "B = 10/2\n",
    "print(A is B)"
   ]
  },
  {
   "cell_type": "code",
   "execution_count": 42,
   "metadata": {},
   "outputs": [
    {
     "name": "stdout",
     "output_type": "stream",
     "text": [
      "2268418154928\n",
      "2268418158064\n"
     ]
    }
   ],
   "source": [
    "print(id(A))\n",
    "print(id(B))"
   ]
  },
  {
   "cell_type": "markdown",
   "metadata": {},
   "source": [
    "#### Answer to the case 1 is False since the ids of A and B are different."
   ]
  },
  {
   "cell_type": "code",
   "execution_count": 44,
   "metadata": {},
   "outputs": [
    {
     "name": "stdout",
     "output_type": "stream",
     "text": [
      "False\n"
     ]
    }
   ],
   "source": [
    "# case 2:\n",
    "\n",
    "A = 5.0\n",
    "B = int(10/2)\n",
    "print(A is B)"
   ]
  },
  {
   "cell_type": "code",
   "execution_count": 45,
   "metadata": {},
   "outputs": [
    {
     "name": "stdout",
     "output_type": "stream",
     "text": [
      "2268418157008\n",
      "140710465447840\n"
     ]
    }
   ],
   "source": [
    "print(id(A))\n",
    "print(id(B))"
   ]
  },
  {
   "cell_type": "markdown",
   "metadata": {},
   "source": [
    "#### Answer to the case 2 is also False since the ids of A and B are different."
   ]
  },
  {
   "cell_type": "code",
   "execution_count": 49,
   "metadata": {},
   "outputs": [
    {
     "name": "stdout",
     "output_type": "stream",
     "text": [
      "False\n"
     ]
    }
   ],
   "source": [
    "# case 3:\n",
    "A = 5.0\n",
    "B = float(10/2)\n",
    "print(A is B)"
   ]
  },
  {
   "cell_type": "code",
   "execution_count": 50,
   "metadata": {},
   "outputs": [
    {
     "name": "stdout",
     "output_type": "stream",
     "text": [
      "2268418154928\n",
      "2268418155216\n"
     ]
    }
   ],
   "source": [
    "print(id(A))\n",
    "print(id(B))"
   ]
  },
  {
   "cell_type": "markdown",
   "metadata": {},
   "source": [
    "#### Answer to the case 3 is also False since the ids of A and B are different."
   ]
  },
  {
   "cell_type": "markdown",
   "metadata": {},
   "source": [
    "7. Write a program that asks the user to enter a number. You should print out a message to the user, either “That number is divisible by either 3 or 5”, or “That number is not divisible by either 3 or 5”. Be sure to consider the data type of the input you are taking in from the user. Use a single if/else block to solve this problem."
   ]
  },
  {
   "cell_type": "code",
   "execution_count": 111,
   "metadata": {},
   "outputs": [
    {
     "name": "stdout",
     "output_type": "stream",
     "text": [
      "The number is divisible by either 3 or 5\n"
     ]
    }
   ],
   "source": [
    "# Answer to question 7\n",
    "num = int(input('Enter a number: '))\n",
    "\n",
    "if num%3 == 0 or num%5 == 0:\n",
    "    print('The number is divisible by either 3 or 5')\n",
    "else:\n",
    "    print('The number is not divisible by either 3 or 5')"
   ]
  },
  {
   "cell_type": "markdown",
   "metadata": {},
   "source": [
    "8. Take user input for length and width. Then calculate the area of rectangle. Also print as per length and width whether its a square of rectangle."
   ]
  },
  {
   "cell_type": "code",
   "execution_count": 112,
   "metadata": {},
   "outputs": [
    {
     "name": "stdout",
     "output_type": "stream",
     "text": [
      "Area of Rectangle is: 400.0\n"
     ]
    }
   ],
   "source": [
    "# Answer to question 8\n",
    "length = float(input('Enter the length: '))\n",
    "width = float(input('Enter the width: '))\n",
    "\n",
    "area = length * width\n",
    "\n",
    "if length == width:\n",
    "    print(f'Area of Square is: {area}')\n",
    "else:\n",
    "    print(f'Area of Rectangle is: {area}')"
   ]
  },
  {
   "cell_type": "markdown",
   "metadata": {},
   "source": [
    "9. Take two variable radius_1 and radius_2 and calculate the area of circle_1 and circle_2. Also print which circle has large area. If area is equal then print area is equal."
   ]
  },
  {
   "cell_type": "code",
   "execution_count": 113,
   "metadata": {},
   "outputs": [
    {
     "name": "stdout",
     "output_type": "stream",
     "text": [
      "Circle2 has larger area: 7850.0\n"
     ]
    }
   ],
   "source": [
    "# Answer to question 9\n",
    "\n",
    "radius_1 = float(input('Enter the radius of first circle: '))\n",
    "radius_2 = float(input('Enter the radius of second circle: '))\n",
    "\n",
    "area1 = 3.14 * (radius_1**2)\n",
    "area2 = 3.14 * (radius_2**2)\n",
    "\n",
    "if area1 == area2:\n",
    "    print(f'Area of both the circles is equal: {area1}')\n",
    "else:\n",
    "    if area1 > area2:\n",
    "        print(f'Circle1 has larger area: {area1}')\n",
    "    else:\n",
    "        print(f'Circle2 has larger area: {area2}')"
   ]
  },
  {
   "cell_type": "markdown",
   "metadata": {},
   "source": [
    "10. Check whether a year is leap year or not. Use nested if...else to solve this problem. A leap year is exactly divisible by 4 except for century years (years ending with 00). The century year is a leap year only if it is perfectly divisible by 400."
   ]
  },
  {
   "cell_type": "code",
   "execution_count": 1,
   "metadata": {},
   "outputs": [
    {
     "name": "stdout",
     "output_type": "stream",
     "text": [
      "The year 2022 is not a leap year\n"
     ]
    }
   ],
   "source": [
    "# Answer to question 10\n",
    "year = int(input('Enter the year: '))\n",
    "\n",
    "if ((year%4 == 0) and (year%100 != 0)) or (year%400 == 0):\n",
    "    print(f'The year {year} is a leap year')\n",
    "else:\n",
    "    print(f'The year {year} is not a leap year')"
   ]
  },
  {
   "cell_type": "code",
   "execution_count": null,
   "metadata": {},
   "outputs": [],
   "source": []
  }
 ],
 "metadata": {
  "kernelspec": {
   "display_name": "Python 3.8.5 ('base')",
   "language": "python",
   "name": "python3"
  },
  "language_info": {
   "codemirror_mode": {
    "name": "ipython",
    "version": 3
   },
   "file_extension": ".py",
   "mimetype": "text/x-python",
   "name": "python",
   "nbconvert_exporter": "python",
   "pygments_lexer": "ipython3",
   "version": "3.8.5"
  },
  "orig_nbformat": 4,
  "vscode": {
   "interpreter": {
    "hash": "3e7ef4a4c04b9df685031c7817c068296d36ccdc8bf89d6a9900a4397f329a74"
   }
  }
 },
 "nbformat": 4,
 "nbformat_minor": 2
}
