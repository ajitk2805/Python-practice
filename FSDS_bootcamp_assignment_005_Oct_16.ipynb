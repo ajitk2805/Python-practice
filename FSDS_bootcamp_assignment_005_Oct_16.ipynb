{
 "cells": [
  {
   "cell_type": "markdown",
   "metadata": {
    "id": "hZcGNSR2y9zW"
   },
   "source": [
    "#### 1. On amazon website we have the following available items - \n",
    "\n",
    "```python\n",
    "amazon_website = [(\"watch\", 5000), (\"phone\", 10000), (\"laptop\", 50000), (\"shirt\", 1000)]\n",
    "```\n",
    "Take the user input N no. of times and find out the total cost to be paid?\n",
    "\n",
    "OR\n",
    "\n",
    "You can ask the user quntity or the count of item?\n",
    "\n",
    "if the item is not present in the amazon website then print that item as out of stock and do add it total\n",
    "\n",
    "\n",
    "HINT: while, for loop.. indexing"
   ]
  },
  {
   "cell_type": "code",
   "execution_count": 20,
   "metadata": {},
   "outputs": [
    {
     "name": "stdout",
     "output_type": "stream",
     "text": [
      "How many products would you like to purchase?: 5\n",
      "\n",
      "****This is your order no: 1****\n",
      "What would you like to purchase?: shirt\n",
      "Enter quantity for shirt: 2\n",
      "\n",
      "****This is your order no: 2****\n",
      "What would you like to purchase?: pants\n",
      "pants is currently unavailable\n",
      "\n",
      "****This is your order no: 3****\n",
      "What would you like to purchase?: phone\n",
      "Enter quantity for phone: 1\n",
      "\n",
      "****This is your order no: 4****\n",
      "What would you like to purchase?: charger\n",
      "charger is currently unavailable\n",
      "\n",
      "****This is your order no: 5****\n",
      "What would you like to purchase?: laptop\n",
      "Enter quantity for laptop: 1\n",
      "\n",
      "Items in your cart are: [['shirt', 1000, 2, 2000], ['phone', 10000, 1, 10000], ['laptop', 50000, 1, 50000]]\n",
      "\n",
      "The total amount to be paid is: Rs. 62000\n"
     ]
    }
   ],
   "source": [
    "amazon_website = [(\"watch\", 5000), (\"phone\", 10000), (\"laptop\", 50000), (\"shirt\", 1000)]\n",
    "\n",
    "N = int(input('How many products would you like to purchase?: '))\n",
    "i=1\n",
    "cart = []\n",
    "total_payment = 0\n",
    "# This while loop will run for the number of products user wants to order\n",
    "while i<=N:\n",
    "    print(f'\\n****This is your order no: {i}****')\n",
    "    item = input('What would you like to purchase?: ')\n",
    "    m=0\n",
    "    for m in range(len(amazon_website)):\n",
    "        if item == amazon_website[m][0]:\n",
    "            qty = int(input(f'Enter quantity for {item}: '))            \n",
    "            total_payment += qty *amazon_website[m][1]\n",
    "            # adding to the card: items, price, ordered quantity and payment amount for the product (qty * price)\n",
    "            cart.append([item, amazon_website[m][1], qty, qty *amazon_website[m][1]])\n",
    "            m+=1\n",
    "            \n",
    "            break\n",
    "    else:\n",
    "        print(f'{item} is currently unavailable')\n",
    "    i+=1\n",
    "\n",
    "print(f'\\nItems in your cart are: {cart}')\n",
    "print(f'\\nThe total amount to be paid is: Rs. {total_payment}')\n",
    "    "
   ]
  },
  {
   "cell_type": "code",
   "execution_count": null,
   "metadata": {},
   "outputs": [],
   "source": []
  },
  {
   "cell_type": "code",
   "execution_count": null,
   "metadata": {},
   "outputs": [],
   "source": []
  },
  {
   "cell_type": "markdown",
   "metadata": {
    "id": "FQrKC2gzzsUm"
   },
   "source": [
    "#### 2. What will be the output of the following code snippet?\n",
    "\n",
    "```\n",
    "arr = [1, 2, 3, 4, 5, 6]\n",
    "for i in range(1, 6):\n",
    "    arr[i - 1] = arr[i]\n",
    "for i in range(0, 6): \n",
    "    print(arr[i], end = \" \")\n",
    "```"
   ]
  },
  {
   "cell_type": "code",
   "execution_count": 21,
   "metadata": {},
   "outputs": [
    {
     "name": "stdout",
     "output_type": "stream",
     "text": [
      "2 3 4 5 6 6 "
     ]
    }
   ],
   "source": [
    "arr = [1, 2, 3, 4, 5, 6]\n",
    "for i in range(1, 6):\n",
    "    arr[i - 1] = arr[i]\n",
    "for i in range(0, 6): \n",
    "    print(arr[i], end = \" \")"
   ]
  },
  {
   "cell_type": "markdown",
   "metadata": {
    "id": "nL_DZJFS0ZZF"
   },
   "source": [
    "#### 3. Write a Python program to find the repeated items of a tuple."
   ]
  },
  {
   "cell_type": "code",
   "execution_count": 25,
   "metadata": {},
   "outputs": [
    {
     "name": "stdout",
     "output_type": "stream",
     "text": [
      "The repeated items in the tuple are: [1, 'b', 'a', 5, 6]\n"
     ]
    }
   ],
   "source": [
    "# Taking a sample tuple for testing the code\n",
    "t1 = (5,5,1,1,2,3,4,6,5,6,'a','b','a','c','b',5)\n",
    "\n",
    "repeated_item_list = []\n",
    "for i in t1:\n",
    "    if t1.count(i) > 1:\n",
    "        repeated_item_list.append((i))\n",
    "        \n",
    "print(f'The repeated items in the tuple are: {list(set(repeated_item_list))}')"
   ]
  },
  {
   "cell_type": "markdown",
   "metadata": {
    "id": "ne8WpLZZ1GSm"
   },
   "source": [
    "### 4. Replace last value of tuples in a list with 500. Try using list comprehension\n",
    "\n",
    "Example -: \n",
    "```\n",
    "Input -:\n",
    "\n",
    "[(10, 20, 40), (40, 50, 60), (70, 80, 90)]\n",
    "\n",
    "Output -:\n",
    "[(10, 20, 500), (40, 50, 500), (70, 80, 500)]\n",
    "\n",
    "\n",
    "```\n"
   ]
  },
  {
   "cell_type": "code",
   "execution_count": 27,
   "metadata": {},
   "outputs": [
    {
     "name": "stdout",
     "output_type": "stream",
     "text": [
      "[(10, 20, 500), (40, 50, 500), (70, 80, 500)]\n"
     ]
    }
   ],
   "source": [
    "# solution with list comprehension\n",
    "inp_list = [(10, 20, 40), (40, 50, 60), (70, 80, 90)]\n",
    "output = [tuple(list(i[:-1])+ [500]) for i in inp_list]\n",
    "print(output)"
   ]
  },
  {
   "cell_type": "code",
   "execution_count": 26,
   "metadata": {},
   "outputs": [
    {
     "name": "stdout",
     "output_type": "stream",
     "text": [
      "[(10, 20, 500), (40, 50, 500), (70, 80, 500)]\n"
     ]
    }
   ],
   "source": [
    "# solution with for loop\n",
    "inp_list = [(10, 20, 40), (40, 50, 60), (70, 80, 90)]\n",
    "out_list = []\n",
    "for i in inp_list:\n",
    "    i = list(i)\n",
    "    i[-1] = 500\n",
    "    i = tuple(i)\n",
    "    out_list.append(i)\n",
    "print(out_list)"
   ]
  },
  {
   "cell_type": "code",
   "execution_count": null,
   "metadata": {},
   "outputs": [],
   "source": []
  }
 ],
 "metadata": {
  "colab": {
   "collapsed_sections": [],
   "provenance": []
  },
  "kernelspec": {
   "display_name": "Python 3",
   "language": "python",
   "name": "python3"
  },
  "language_info": {
   "codemirror_mode": {
    "name": "ipython",
    "version": 3
   },
   "file_extension": ".py",
   "mimetype": "text/x-python",
   "name": "python",
   "nbconvert_exporter": "python",
   "pygments_lexer": "ipython3",
   "version": "3.8.5"
  }
 },
 "nbformat": 4,
 "nbformat_minor": 1
}
